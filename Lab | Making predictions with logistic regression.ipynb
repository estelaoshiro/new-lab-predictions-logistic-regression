{
 "cells": [
  {
   "cell_type": "markdown",
   "id": "dc447a8c",
   "metadata": {},
   "source": [
    "# Making predictions with Logistic Regression Model"
   ]
  },
  {
   "cell_type": "code",
   "execution_count": null,
   "id": "81e2a077",
   "metadata": {},
   "outputs": [],
   "source": [
    "import pymysql\n",
    "from sqlalchemy import create_engine\n",
    "import pandas as pd\n",
    "import numpy as np\n",
    "import getpass  # To get the password without showing the input\n",
    "password = getpass.getpass()\n",
    "import seaborn as sns\n",
    "import matplotlib.pyplot as plt\n",
    "%matplotlib inline\n",
    "from sklearn.model_selection import train_test_split\n",
    "from sklearn.preprocessing import StandardScaler\n",
    "from sklearn.linear_model import LogisticRegression\n",
    "from sklearn.metrics import accuracy_score\n",
    "from sklearn.metrics import confusion_matrix, ConfusionMatrixDisplay\n",
    "\n",
    "\n",
    "\n",
    "\n"
   ]
  },
  {
   "cell_type": "code",
   "execution_count": null,
   "id": "c9921ed1",
   "metadata": {},
   "outputs": [],
   "source": [
    "#1.Create a query or queries to extract the information you think may be relevant for building the prediction model. \n",
    "#It should include some film features and some rental features. Use the data from 2005.\n",
    "connection_string = 'mysql+pymysql://root:' + password + '@localhost/sakila'\n",
    "engine = create_engine(connection_string)\n",
    "query = '''\n",
    "select i.store_id, r.rental_date, f.film_id, f.title, f.description, f.length, p.amount from rental as r\n",
    "right join inventory as i\n",
    "on r.inventory_id = i.inventory_id\n",
    "left join film as f\n",
    "on i.film_id = f.film_id\n",
    "left join payment as p \n",
    "on r.rental_id = p.rental_id\n",
    "where YEAR(r.rental_date)=2005\n",
    ";\n",
    "'''\n",
    "\n",
    "data = pd.read_sql_query(query, engine)\n",
    "data\n"
   ]
  },
  {
   "cell_type": "code",
   "execution_count": null,
   "id": "be84f13e",
   "metadata": {},
   "outputs": [],
   "source": [
    "#2.Create a query to get the total amount of rentals in June for each film.\n",
    "query = '''\n",
    "select count(f.film_id) as 'amount_rentals', f.film_id, f.title from rental as r\n",
    "left join inventory as i\n",
    "on r.inventory_id = i.inventory_id\n",
    "left join film as f\n",
    "on i.film_id = f.film_id\n",
    "where MONTH(r.rental_date)=6 AND YEAR(r.rental_date)=2005 \n",
    "group by f.film_id\n",
    "order by amount_rentals DESC;\n",
    "'''\n",
    "rental_6 = pd.read_sql_query(query, engine)\n",
    "rental_6\n",
    "\n"
   ]
  },
  {
   "cell_type": "code",
   "execution_count": null,
   "id": "73680d10",
   "metadata": {},
   "outputs": [],
   "source": [
    "#3.Create a query to get the total amount of rentals in July for each film.\n",
    "\n",
    "query = '''\n",
    "select count(f.film_id) as 'amount_rentals', f.film_id, f.title from rental as r\n",
    "left join inventory as i\n",
    "on r.inventory_id = i.inventory_id\n",
    "left join film as f\n",
    "on i.film_id = f.film_id\n",
    "where MONTH(r.rental_date)=7 AND YEAR(r.rental_date)=2005 \n",
    "group by f.film_id\n",
    "order by amount_rentals DESC;\n",
    "'''\n",
    "rental_7 = pd.read_sql_query(query, engine)\n",
    "rental_7"
   ]
  },
  {
   "cell_type": "code",
   "execution_count": null,
   "id": "4727f1dc",
   "metadata": {
    "scrolled": true
   },
   "outputs": [],
   "source": [
    "#4.Create a new column containing (Yes/No) for each film whether or not the number of monthly rentals in July was bigger than in June.\n",
    "#Your objective will be to predict this new column.\n",
    "\n",
    "\n",
    "rental_6_7=pd.merge(left = rental_6, # LEFT TABLE\n",
    "                                 right = rental_7, # RIGHT TABLE\n",
    "                                 how = 'right', # TYPE OF JOIN\n",
    "                                 left_on = \"film_id\", # COMMON COLUMN IN LEFT TABLE\n",
    "                                 right_on= \"film_id\") # COMMON COLUMN IN RIGTH TABLE\n",
    "\n",
    "#rental_6_7.rename(columns={'amount_retnals_x':'amount_rentals_june','amount_retnals_y':'amount_rentals_july'})\n",
    "rental_6_7"
   ]
  },
  {
   "cell_type": "code",
   "execution_count": null,
   "id": "a90440e3",
   "metadata": {},
   "outputs": [],
   "source": [
    "#Cleaning data\n",
    "#Replacing missing values\n",
    "rental_6_7=rental_6_7.drop('title_x', axis=1)\n",
    "rental_6_7=rental_6_7.fillna(0)\n",
    "rental_6_7.isna().sum()"
   ]
  },
  {
   "cell_type": "code",
   "execution_count": null,
   "id": "ac5f7171",
   "metadata": {},
   "outputs": [],
   "source": [
    "#Creating a new column containing 'yes', 'no'\n",
    "\n",
    "def amount_films_comparison(x,y):\n",
    "    if y > x:\n",
    "        return 'Yes'\n",
    "    else:\n",
    "        return 'No'\n",
    "    \n",
    "new_column=list(map(amount_films_comparison, rental_6_7['amount_rentals_x'],rental_6_7['amount_rentals_y']))"
   ]
  },
  {
   "cell_type": "code",
   "execution_count": null,
   "id": "f1e52c95",
   "metadata": {},
   "outputs": [],
   "source": [
    "rental_6_7['high_rental_july']= new_column"
   ]
  },
  {
   "cell_type": "code",
   "execution_count": null,
   "id": "03f466b1",
   "metadata": {},
   "outputs": [],
   "source": [
    "#5.Read the data into a Pandas dataframe.\n",
    "rental_6_7\n"
   ]
  },
  {
   "cell_type": "code",
   "execution_count": null,
   "id": "4cb3049b",
   "metadata": {},
   "outputs": [],
   "source": [
    "rental_6_7['high_rental_july'].value_counts()"
   ]
  },
  {
   "cell_type": "code",
   "execution_count": null,
   "id": "e3f44428",
   "metadata": {},
   "outputs": [],
   "source": [
    "data2=pd.merge(left = rental_6_7, # LEFT TABLE\n",
    "                                 right = data, # RIGHT TABLE\n",
    "                                 how = 'right', # TYPE OF JOIN\n",
    "                                 left_on = \"film_id\", # COMMON COLUMN IN LEFT TABLE\n",
    "                                 right_on= \"film_id\") # COMMON COLUMN IN RIGTH TABLE\n",
    "\n"
   ]
  },
  {
   "cell_type": "code",
   "execution_count": null,
   "id": "8f573c06",
   "metadata": {},
   "outputs": [],
   "source": [
    "data2"
   ]
  },
  {
   "cell_type": "code",
   "execution_count": null,
   "id": "3e246316",
   "metadata": {},
   "outputs": [],
   "source": [
    "#Correlation between features\n",
    "corr_matrix=data2.corr(method='pearson')\n",
    "sns.heatmap(corr_matrix, annot=True)\n"
   ]
  },
  {
   "cell_type": "code",
   "execution_count": null,
   "id": "77c20500",
   "metadata": {},
   "outputs": [],
   "source": [
    "pd.crosstab(data2['length'],data2['amount_rentals_x'])\n",
    "\n"
   ]
  },
  {
   "cell_type": "code",
   "execution_count": null,
   "id": "56d3ad5c",
   "metadata": {},
   "outputs": [],
   "source": [
    "sns.displot(x='length',data=data2, bins=5)\n"
   ]
  },
  {
   "cell_type": "code",
   "execution_count": null,
   "id": "c0caad91",
   "metadata": {},
   "outputs": [],
   "source": [
    "sns.displot(x='amount_rentals_x',data=data2, bins=5)\n",
    "\n"
   ]
  },
  {
   "cell_type": "code",
   "execution_count": null,
   "id": "34021751",
   "metadata": {},
   "outputs": [],
   "source": [
    "#6.Analyze extracted features and transform them. You may need to encode some categorical variables or scale numerical variables.\n",
    "#X-y split\n",
    "\n",
    "X=data2.loc[:,['amount_rentals_x', 'length', 'amount']]\n",
    "y=data2['high_rental_july']\n",
    "\n",
    "#Train-test split\n",
    "X_train, X_test, y_train, y_test = train_test_split(X, y, test_size=0.2, random_state=11)\n",
    "\n",
    "#Scaling variables with StandardScaler\n",
    "\n",
    "transformer = StandardScaler().fit(X_train) \n",
    "\n",
    "X_train_normalized = transformer.transform(X_train)\n",
    "X_test_normalized  = transformer.transform(X_test)\n",
    "\n",
    "X_train_norm = pd.DataFrame(X_train_normalized, columns=X_train.columns)\n",
    "X_test_norm  = pd.DataFrame(X_test_normalized, columns=X_test.columns)\n",
    "\n",
    "\n",
    "#The selected data doesn't have categorical features. Therefore, there's no need to apply OHE"
   ]
  },
  {
   "cell_type": "code",
   "execution_count": null,
   "id": "49ee09c0",
   "metadata": {},
   "outputs": [],
   "source": [
    "X_train_norm"
   ]
  },
  {
   "cell_type": "code",
   "execution_count": null,
   "id": "e6d8cb35",
   "metadata": {},
   "outputs": [],
   "source": []
  },
  {
   "cell_type": "code",
   "execution_count": null,
   "id": "4cbb4fe4",
   "metadata": {},
   "outputs": [],
   "source": [
    "#7.Create a logistic regression model to predict this new column from the cleaned data.\n",
    "log_reg=LogisticRegression(random_state=11,solver='lbfgs',max_iter=1000).fit(X_train_norm, y_train)\n",
    "\n",
    "y_test_pred = log_reg.predict(X_test_norm)\n",
    "\n",
    "print(y_test_pred)"
   ]
  },
  {
   "cell_type": "code",
   "execution_count": null,
   "id": "c6048216",
   "metadata": {},
   "outputs": [],
   "source": [
    "#8.Evaluate the results.\n",
    "\n",
    "print(accuracy_score(y_test,y_test_pred))"
   ]
  },
  {
   "cell_type": "code",
   "execution_count": null,
   "id": "16bbf4b8",
   "metadata": {},
   "outputs": [],
   "source": [
    "cm_test = confusion_matrix(y_test, y_test_pred)\n",
    "\n",
    "disp = ConfusionMatrixDisplay(cm_test,display_labels=log_reg.classes_)\n",
    "disp.plot()\n",
    "plt.show()"
   ]
  },
  {
   "cell_type": "markdown",
   "id": "6b94742b",
   "metadata": {},
   "source": [
    "As the dataset has 952 values for 'Yes' and just 6 for 'No', the model predicted all 'Yes'.\n",
    "There's a problem of class imbalance."
   ]
  }
 ],
 "metadata": {
  "kernelspec": {
   "display_name": "Python 3 (ipykernel)",
   "language": "python",
   "name": "python3"
  },
  "language_info": {
   "codemirror_mode": {
    "name": "ipython",
    "version": 3
   },
   "file_extension": ".py",
   "mimetype": "text/x-python",
   "name": "python",
   "nbconvert_exporter": "python",
   "pygments_lexer": "ipython3",
   "version": "3.9.12"
  }
 },
 "nbformat": 4,
 "nbformat_minor": 5
}
